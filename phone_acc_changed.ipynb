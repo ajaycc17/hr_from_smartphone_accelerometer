{
  "cells": [
    {
      "cell_type": "code",
      "execution_count": 53,
      "id": "a6015f42",
      "metadata": {
        "id": "a6015f42"
      },
      "outputs": [],
      "source": [
        "import json\n",
        "import numpy as np\n",
        "import scipy as sp\n",
        "import pandas as pd\n",
        "import seaborn as sns\n",
        "import matplotlib.pyplot as plt\n",
        "from matplotlib import style\n",
        "from scipy.signal import butter, filtfilt\n",
        "from scipy.signal import find_peaks\n",
        "\n",
        "import warnings\n",
        "warnings.filterwarnings(action=\"ignore\", module=\"scipy\", message=\"^internal gelsd\")\n",
        "\n",
        "style.use(\"ggplot\")"
      ]
    },
    {
      "cell_type": "code",
      "execution_count": 54,
      "id": "f104d6d1",
      "metadata": {
        "id": "f104d6d1"
      },
      "outputs": [],
      "source": [
        "sampling_frequency = 50\n",
        "# 50/7 is chosen for applying average filter to the data each time\n",
        "average_filter_window_duration_hr = int((1 / 7) * sampling_frequency)\n",
        "T = 1 / sampling_frequency\n",
        "save_plots = True"
      ]
    },
    {
      "cell_type": "code",
      "execution_count": 55,
      "id": "0fc843ab",
      "metadata": {
        "id": "0fc843ab"
      },
      "outputs": [],
      "source": [
        "# z-score normalization\n",
        "# z = x-mean(x)/std(x)\n",
        "def normalize(data):\n",
        "    for i in range(0, 3):\n",
        "        data[:, i] = sp.stats.zscore(data[:, i])\n",
        "    return data"
      ]
    },
    {
      "cell_type": "code",
      "execution_count": 56,
      "id": "bb52775b",
      "metadata": {},
      "outputs": [],
      "source": [
        "# average filter\n",
        "# y = (x1 + x2 + x3 + ... + xn) / n\n",
        "# window = 50/7 = 7 samples i.e averaging every 7 samples\n",
        "def apply_average_filter(data, window):\n",
        "    for i in range(0, 3):\n",
        "        data[:, i] = np.array(pd.Series(data[:, i]).rolling(window=window).mean())\n",
        "    return data"
      ]
    },
    {
      "cell_type": "code",
      "execution_count": 57,
      "id": "1e25bc4d",
      "metadata": {
        "id": "1e25bc4d"
      },
      "outputs": [],
      "source": [
        "# plot one axis data\n",
        "def plot(data, title, plot_save_path):\n",
        "    N = len(data)\n",
        "    y = np.linspace(0, N / sampling_frequency, N)\n",
        "    sns.set_theme(style=\"whitegrid\", rc={\"axes.grid\": True, \"grid.color\": \"lightgray\"})\n",
        "    plt.figure(figsize=(15, 6))\n",
        "\n",
        "    plt.plot(y, data)\n",
        "\n",
        "    plt.title(title)\n",
        "    plt.ylabel(\"ACCELERATION (m/s^2)\")\n",
        "    plt.xlabel(\"TIME (s)\")\n",
        "    draw_plot(plot_save_path)\n",
        "    plt.close()\n",
        "\n",
        "\n",
        "# plot 3 axis data\n",
        "def plot_all_axis(data0, data1, data2, title, plot_save_path):\n",
        "    N = len(data0)\n",
        "    time = np.linspace(0, N / sampling_frequency, N)\n",
        "    sns.set_theme(style=\"whitegrid\", rc={\"axes.grid\": True, \"grid.color\": \"lightgray\"})\n",
        "\n",
        "    plt.figure(figsize=(15, 6))\n",
        "    plt.plot(time, data0, label=\"X-axis\", color=\"r\")\n",
        "    plt.plot(time, data1, label=\"Y-axis\", color=\"g\")\n",
        "    plt.plot(time, data2, label=\"Z-axis\", color=\"b\")\n",
        "\n",
        "    plt.title(title)\n",
        "    plt.xlabel(\"Time (s)\")\n",
        "    plt.ylabel(\"Acceleration (m/s²)\")\n",
        "    plt.legend()\n",
        "    plt.grid(True)\n",
        "    draw_plot(plot_save_path)\n",
        "    plt.close()\n",
        "\n",
        "\n",
        "# plot fft data\n",
        "def plot_fft(fft_acc, freqs, plot_save_path):\n",
        "    sns.set_theme(style=\"whitegrid\", rc={\"axes.grid\": True, \"grid.color\": \"lightgray\"})\n",
        "    plt.figure(figsize=(15, 6))\n",
        "    plt.plot(freqs, fft_acc)\n",
        "    plt.xlabel(\"Frequency in Hertz [Hz]\")\n",
        "    plt.ylabel(\"Magnitude\")\n",
        "    plt.title(\"FFT\")\n",
        "    draw_plot(plot_save_path)\n",
        "    plt.close()\n",
        "\n",
        "\n",
        "# draw the plot and save it\n",
        "def draw_plot(plot_save_path):\n",
        "    if save_plots:\n",
        "        plt.savefig(plot_save_path)\n",
        "    else:\n",
        "        plt.draw()\n",
        "        plt.pause(5)"
      ]
    },
    {
      "cell_type": "code",
      "execution_count": 58,
      "id": "853c4f4c",
      "metadata": {
        "id": "853c4f4c"
      },
      "outputs": [],
      "source": [
        "# butter bandpass filter\n",
        "def butter_bandpass(lowcut, highcut, fs, order):\n",
        "    nyq = 0.5 * fs\n",
        "    low = lowcut / nyq\n",
        "    high = highcut / nyq\n",
        "    # get the coefficients for the filter\n",
        "    # b = numerator coefficients, a = denominator coefficients\n",
        "    b, a = butter(order, [low, high], btype=\"band\")\n",
        "    return b, a\n",
        "\n",
        "\n",
        "# bandpass filter\n",
        "# y = b*x + a*y\n",
        "def butter_bandpass_filter(data, lowcut, highcut, fs, order):\n",
        "    b, a = butter_bandpass(lowcut, highcut, fs, order)\n",
        "    # forward-backward filter to avoid phase distortion\n",
        "    y = filtfilt(b, a, data)\n",
        "    return y\n",
        "\n",
        "\n",
        "# wrapper function for bandpass filter\n",
        "def apply_bandpass_butterworth_filter(data, low_cutoff_freq, high_cutoff_freq):\n",
        "    order = 2\n",
        "    y = butter_bandpass_filter(\n",
        "        data, low_cutoff_freq, high_cutoff_freq, sampling_frequency, order\n",
        "    )\n",
        "    return y"
      ]
    },
    {
      "cell_type": "code",
      "execution_count": 59,
      "id": "fc1bf376",
      "metadata": {},
      "outputs": [],
      "source": [
        "# aggregate all 3 components of acceleration into one\n",
        "# y = sqrt(x1^2 + x2^2 + x3^2)\n",
        "def aggregate_components(data):\n",
        "    return np.array(\n",
        "        list(map(lambda c: np.sqrt(np.sum(np.square(c))), data)), dtype=np.float64\n",
        "    )"
      ]
    },
    {
      "cell_type": "code",
      "execution_count": 60,
      "id": "483d41ea",
      "metadata": {},
      "outputs": [],
      "source": [
        "def FreqTransform(x, low_freqs, fft_len):\n",
        "    fft_x = np.fft.rfft(x, fft_len)\n",
        "    # Calculate magnitude of the lower frequencies\n",
        "    mag_freq_x = np.abs(fft_x)[low_freqs]\n",
        "    return mag_freq_x, fft_x"
      ]
    },
    {
      "cell_type": "code",
      "execution_count": 61,
      "id": "8202934d",
      "metadata": {},
      "outputs": [],
      "source": [
        "def fft(acc_data, plot_save_path):\n",
        "    acc_data = acc_data[~np.isnan(acc_data)]\n",
        "    acc_data = sp.signal.detrend(acc_data)\n",
        "    N = len(acc_data) * 4\n",
        "    freqs = np.fft.rfftfreq(N, 1 / sampling_frequency)\n",
        "    low_freqs = (freqs >= (45 / 60)) & (freqs <= (150 / 60))\n",
        "\n",
        "    mag_freq_acc, fft_acc = FreqTransform(acc_data, low_freqs, N)\n",
        "    peaks_acc = find_peaks(mag_freq_acc, height=30, distance=1)[0]\n",
        "    # Sort peaks in order of peak magnitude\n",
        "    sorted_freq_peaks_acc = sorted(\n",
        "        peaks_acc, key=lambda j: mag_freq_acc[j], reverse=True\n",
        "    )\n",
        "    if len(sorted_freq_peaks_acc) == 0:\n",
        "        print(\"No peak found\")\n",
        "        return\n",
        "    use_peak = sorted_freq_peaks_acc[0]\n",
        "    chosen_freq = freqs[low_freqs][use_peak]\n",
        "    prediction = chosen_freq * 60\n",
        "    plot_fft(fft_acc, freqs, plot_save_path)\n",
        "    print(\"Heart rate:\", prediction)"
      ]
    },
    {
      "cell_type": "code",
      "execution_count": 65,
      "id": "cde8db85",
      "metadata": {
        "id": "cde8db85"
      },
      "outputs": [],
      "source": [
        "def calculate_heart_rate(normalized_data):\n",
        "  # smoothen the data using average filter\n",
        "  smooth_data = apply_average_filter(normalized_data, average_filter_window_duration_hr)\n",
        "  smooth_data = np.array(list(filter(lambda row: np.isfinite(np.sum(row)), smooth_data)), dtype=np.float64)\n",
        "  plot_all_axis(smooth_data[:,0],smooth_data[:,1],smooth_data[:,2], 'Smoothened Accelerometer Data - HR', 'plots/bio_watch/smoothened_accelerometer_data.png')\n",
        "\n",
        "  # filter coarse and high frequency noise using bandpass filter\n",
        "  low_cutoff_freq = 7\n",
        "  high_cutoff_freq = 13\n",
        "  smooth_data[:,0] = apply_bandpass_butterworth_filter(smooth_data[:,0], low_cutoff_freq, high_cutoff_freq)\n",
        "  smooth_data[:,1] = apply_bandpass_butterworth_filter(smooth_data[:,1], low_cutoff_freq, high_cutoff_freq)\n",
        "  smooth_data[:,2] = apply_bandpass_butterworth_filter(smooth_data[:,2], low_cutoff_freq, high_cutoff_freq)\n",
        "  plot_all_axis(smooth_data[:,0],smooth_data[:,1],smooth_data[:,2], 'Bandpass-1 Accelerometer Data', 'plots/bio_watch/after_bandpass1.png')\n",
        "\n",
        "  # aggregate all 3 components of acceleration into one\n",
        "  aggregated_data = aggregate_components(smooth_data)\n",
        "\n",
        "  # only consider desired frequency range for heart rate calculation\n",
        "  high_cutoff_freq = 3.66\n",
        "  low_cutoff_freq = 0.5\n",
        "  bandpass2_data = apply_bandpass_butterworth_filter(aggregated_data, low_cutoff_freq, high_cutoff_freq)\n",
        "  plot(bandpass2_data, 'Pulse wave from Accelerometer Data', 'plots/bio_watch/aggregated_pulse_wave.png')\n",
        "  # calculate heart rate using fft\n",
        "  fft(bandpass2_data, 'plots/bio_watch/hr_fft.png')"
      ]
    },
    {
      "cell_type": "code",
      "execution_count": 63,
      "id": "1e18414a",
      "metadata": {
        "id": "1e18414a"
      },
      "outputs": [],
      "source": [
        "def bio_watch(data, sampling_freq):\n",
        "  global sampling_frequency\n",
        "  sampling_frequency = sampling_freq\n",
        "  plot_all_axis(data[:,0], data[:,1], data[:,2], 'Raw Accelerometer Data', 'plots/bio_watch/raw_accelerometer_data.png')\n",
        "  normalized_data = normalize(data)\n",
        "  plot_all_axis(normalized_data[:,0],normalized_data[:,1],normalized_data[:,2], 'Normalized Accelerometer Data', 'plots/bio_watch/normalized_accelerometer_data.png')\n",
        "  # calculate heart rate from the normalized data\n",
        "  calculate_heart_rate(normalized_data)"
      ]
    },
    {
      "cell_type": "code",
      "execution_count": 66,
      "id": "9d95f6a2",
      "metadata": {
        "id": "9d95f6a2",
        "outputId": "760ce1ec-52f2-4b88-ca9c-8d0fbc1c7331"
      },
      "outputs": [
        {
          "name": "stdout",
          "output_type": "stream",
          "text": [
            "Number of records: 13288\n",
            "Heart rate: 79.73196807709684\n"
          ]
        },
        {
          "name": "stderr",
          "output_type": "stream",
          "text": [
            "c:\\Users\\ajayc\\Downloads\\MTP Project\\my_code_acc_data\\env\\Lib\\site-packages\\matplotlib\\cbook.py:1719: ComplexWarning: Casting complex values to real discards the imaginary part\n",
            "  return math.isfinite(val)\n",
            "c:\\Users\\ajayc\\Downloads\\MTP Project\\my_code_acc_data\\env\\Lib\\site-packages\\matplotlib\\cbook.py:1355: ComplexWarning: Casting complex values to real discards the imaginary part\n",
            "  return np.asarray(x, float)\n"
          ]
        }
      ],
      "source": [
        "# Example usage\n",
        "input_file_path = f\"accelerometer_data_from_phone/short_data.txt\"\n",
        "data = pd.read_csv(input_file_path, header=None)\n",
        "data = data.iloc[:, 1:] # ignore the first column (timestamp)\n",
        "data = data.values\n",
        "print(\"Number of records:\", len(data))\n",
        "bio_watch(data, sampling_frequency)"
      ]
    },
    {
      "cell_type": "code",
      "execution_count": null,
      "id": "6f7320b2",
      "metadata": {
        "id": "6f7320b2",
        "outputId": "8d487941-d525-4a93-fe6f-9cdeaf236858"
      },
      "outputs": [
        {
          "name": "stdout",
          "output_type": "stream",
          "text": [
            "Average heart rate: 78.35426429240862\n",
            "Average heart rate: 83.5953370953371\n",
            "Average heart rate: 79.58814085411538\n",
            "Average heart rate: 96.88546129677235\n",
            "Average heart rate: 92.44304152637486\n",
            "Average heart rate: 95.6619901273058\n",
            "Average heart rate: 93.11899179366941\n",
            "Average heart rate: 91.95290944922726\n",
            "Average heart rate: 115.9402230742419\n",
            "Average heart rate: 112.15412808641975\n"
          ]
        }
      ],
      "source": [
        "# fitbit heart rate data\n",
        "dates1 = [\"03-25\", \"03-26\", \"03-27\", \"03-28\", \"03-29\", \"03-30\", \"03-31\", \"04-01\" , \"04-02\", \"04-03\"]\n",
        "for i in dates1:\n",
        "    file_path = f'fitbit_hr/heart_rate-2025-{i}.json'\n",
        "    with open(file_path, 'r') as file:\n",
        "        data = json.load(file)\n",
        "        \n",
        "    counter = 0\n",
        "    sum = 0\n",
        "    for i in data:\n",
        "        sum += i['value']['bpm']\n",
        "        counter += 1\n",
        "    print(\"Average heart rate:\", sum/counter)"
      ]
    },
    {
      "cell_type": "code",
      "execution_count": null,
      "id": "372c33ac",
      "metadata": {},
      "outputs": [],
      "source": []
    }
  ],
  "metadata": {
    "colab": {
      "provenance": []
    },
    "kernelspec": {
      "display_name": "env",
      "language": "python",
      "name": "python3"
    },
    "language_info": {
      "codemirror_mode": {
        "name": "ipython",
        "version": 3
      },
      "file_extension": ".py",
      "mimetype": "text/x-python",
      "name": "python",
      "nbconvert_exporter": "python",
      "pygments_lexer": "ipython3",
      "version": "3.13.1"
    }
  },
  "nbformat": 4,
  "nbformat_minor": 5
}
